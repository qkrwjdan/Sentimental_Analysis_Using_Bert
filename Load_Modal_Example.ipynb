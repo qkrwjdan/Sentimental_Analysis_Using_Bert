{
 "cells": [
  {
   "cell_type": "code",
   "execution_count": 1,
   "id": "chronic-guide",
   "metadata": {},
   "outputs": [],
   "source": [
    "from transformers import BertTokenizer, BertForSequenceClassification\n",
    "import torch\n",
    "import numpy as np\n"
   ]
  },
  {
   "cell_type": "code",
   "execution_count": 2,
   "id": "growing-performance",
   "metadata": {},
   "outputs": [],
   "source": [
    "# tokenizer = BertTokenizer.from_pretrained('/20210224_SentimentalAnalysis')\n",
    "model = BertForSequenceClassification.from_pretrained('20210302_acc72')"
   ]
  },
  {
   "cell_type": "code",
   "execution_count": 8,
   "id": "manufactured-maker",
   "metadata": {},
   "outputs": [
    {
     "data": {
      "text/plain": [
       "tensor([ 3.8557, -1.7947, -2.0716], grad_fn=<SelectBackward>)"
      ]
     },
     "execution_count": 8,
     "metadata": {},
     "output_type": "execute_result"
    }
   ],
   "source": [
    "tokenizer = BertTokenizer.from_pretrained('bert-base-uncased')\n",
    "\n",
    "text = \"what's the matter?\"\n",
    "# tokenization\n",
    "inputs = tokenizer(text,return_tensors=\"pt\")\n",
    "# use model\n",
    "prediction = model(**inputs)\n",
    "\n",
    "Encoder = {1 : \"Neutral\" , 2 : \"Positive\" , 0 : \"Negative\"}\n",
    "pred = prediction[0][0]\n",
    "pred\n"
   ]
  },
  {
   "cell_type": "code",
   "execution_count": 9,
   "id": "sustained-puzzle",
   "metadata": {},
   "outputs": [
    {
     "name": "stdout",
     "output_type": "stream",
     "text": [
      "argmaxed :  0\n",
      "answer :  Negative\n"
     ]
    }
   ],
   "source": [
    "argmaxed = np.argmax(pred.detach().numpy())\n",
    "print(\"argmaxed : \",argmaxed)\n",
    "print(\"answer : \",Encoder[argmaxed])"
   ]
  },
  {
   "cell_type": "code",
   "execution_count": 11,
   "id": "periodic-county",
   "metadata": {},
   "outputs": [],
   "source": [
    "def sentimental_Analysis(text, model_name):\n",
    "    \n",
    "    model = BertForSequenceClassification.from_pretrained('20210302_acc72')\n",
    "    tokenizer = BertTokenizer.from_pretrained('bert-base-uncased')\n",
    "    inputs = tokenizer(text,return_tensors = \"pt\")\n",
    "    prediction = model(**inputs)\n",
    "    \n",
    "    Encoder = {1 : \"Neutral\" , 2 : \"Positive\" , 0 : \"Negative\"}\n",
    "    pred = prediction[0][0]\n",
    "    argmaxed = np.argmax(pred.detach().numpy())\n",
    "    return Encoder[argmaxed]"
   ]
  },
  {
   "cell_type": "code",
   "execution_count": 15,
   "id": "friendly-default",
   "metadata": {},
   "outputs": [
    {
     "name": "stdout",
     "output_type": "stream",
     "text": [
      "Positive\n"
     ]
    }
   ],
   "source": [
    "SampleText = \"i'm so happy today!\"\n",
    "print(sentimental_Analysis(SampleText,'20210302_acc72'))"
   ]
  },
  {
   "cell_type": "code",
   "execution_count": 7,
   "id": "orange-lightweight",
   "metadata": {},
   "outputs": [
    {
     "ename": "NameError",
     "evalue": "name 'python3' is not defined",
     "output_type": "error",
     "traceback": [
      "\u001b[0;31m---------------------------------------------------------------------------\u001b[0m",
      "\u001b[0;31mNameError\u001b[0m                                 Traceback (most recent call last)",
      "\u001b[0;32m<ipython-input-7-cd8ef756a1b1>\u001b[0m in \u001b[0;36m<module>\u001b[0;34m\u001b[0m\n\u001b[0;32m----> 1\u001b[0;31m \u001b[0mpython3\u001b[0m\u001b[0;34m.\u001b[0m\u001b[0m__version__\u001b[0m\u001b[0;34m\u001b[0m\u001b[0;34m\u001b[0m\u001b[0m\n\u001b[0m",
      "\u001b[0;31mNameError\u001b[0m: name 'python3' is not defined"
     ]
    }
   ],
   "source": []
  },
  {
   "cell_type": "code",
   "execution_count": null,
   "id": "suburban-zambia",
   "metadata": {},
   "outputs": [],
   "source": []
  }
 ],
 "metadata": {
  "kernelspec": {
   "display_name": "sentimentalAnalysis",
   "language": "python",
   "name": "venv"
  },
  "language_info": {
   "codemirror_mode": {
    "name": "ipython",
    "version": 3
   },
   "file_extension": ".py",
   "mimetype": "text/x-python",
   "name": "python",
   "nbconvert_exporter": "python",
   "pygments_lexer": "ipython3",
   "version": "3.7.3"
  }
 },
 "nbformat": 4,
 "nbformat_minor": 5
}
